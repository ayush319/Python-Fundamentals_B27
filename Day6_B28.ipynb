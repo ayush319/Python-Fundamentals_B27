{
 "cells": [
  {
   "cell_type": "code",
   "execution_count": null,
   "metadata": {},
   "outputs": [],
   "source": [
    "Introduction to looping statements:"
   ]
  },
  {
   "cell_type": "code",
   "execution_count": 1,
   "metadata": {},
   "outputs": [],
   "source": [
    "students = [\"ravi\",\"pallabi\",\"anirban\",\"ishwariya\",\"kumar\",\"vrinda\",\"harshika\"]"
   ]
  },
  {
   "cell_type": "code",
   "execution_count": 2,
   "metadata": {},
   "outputs": [
    {
     "name": "stdout",
     "output_type": "stream",
     "text": [
      "['ravi', 'pallabi', 'anirban', 'ishwariya', 'kumar', 'vrinda', 'harshika']\n"
     ]
    }
   ],
   "source": [
    "print(students)"
   ]
  },
  {
   "cell_type": "code",
   "execution_count": 3,
   "metadata": {},
   "outputs": [
    {
     "data": {
      "text/plain": [
       "list"
      ]
     },
     "execution_count": 3,
     "metadata": {},
     "output_type": "execute_result"
    }
   ],
   "source": [
    "type(students)"
   ]
  },
  {
   "cell_type": "code",
   "execution_count": null,
   "metadata": {},
   "outputs": [],
   "source": [
    "accessing each element one by one"
   ]
  },
  {
   "cell_type": "code",
   "execution_count": 4,
   "metadata": {},
   "outputs": [
    {
     "name": "stdout",
     "output_type": "stream",
     "text": [
      "Keep up the good work, Ravi\n"
     ]
    }
   ],
   "source": [
    "print(f\"Keep up the good work, {students[0].title()}\") #individual approach"
   ]
  },
  {
   "cell_type": "code",
   "execution_count": 5,
   "metadata": {},
   "outputs": [
    {
     "name": "stdout",
     "output_type": "stream",
     "text": [
      "Keep up the good work, Pallabi\n"
     ]
    }
   ],
   "source": [
    "print(f\"Keep up the good work, {students[1].title()}\")"
   ]
  },
  {
   "cell_type": "code",
   "execution_count": 6,
   "metadata": {},
   "outputs": [
    {
     "name": "stdout",
     "output_type": "stream",
     "text": [
      "Keep up the good work, Anirban\n"
     ]
    }
   ],
   "source": [
    "print(f\"Keep up the good work, {students[2].title()}\")"
   ]
  },
  {
   "cell_type": "code",
   "execution_count": null,
   "metadata": {},
   "outputs": [],
   "source": [
    "Accessing all the elements in the list"
   ]
  },
  {
   "cell_type": "code",
   "execution_count": 8,
   "metadata": {},
   "outputs": [
    {
     "name": "stdout",
     "output_type": "stream",
     "text": [
      "Keep up the good work,Ravi.\n",
      "\n",
      "Keep up the good work,Pallabi.\n",
      "\n",
      "Keep up the good work,Anirban.\n",
      "\n",
      "Keep up the good work,Ishwariya.\n",
      "\n",
      "Keep up the good work,Kumar.\n",
      "\n",
      "Keep up the good work,Vrinda.\n",
      "\n",
      "Keep up the good work,Harshika.\n",
      "\n"
     ]
    }
   ],
   "source": [
    "for student in students:\n",
    "    print(f\"Keep up the good work,{student.title()}.\\n\")"
   ]
  },
  {
   "cell_type": "code",
   "execution_count": null,
   "metadata": {},
   "outputs": [],
   "source": [
    "#Gen syntax of a foor loop"
   ]
  },
  {
   "cell_type": "code",
   "execution_count": null,
   "metadata": {},
   "outputs": [],
   "source": [
    "for tempVar in MainVar: #tempVar is the temporary variable and MainVar is the main variable\n",
    "    print(tempVar) #indentations is important in for loop"
   ]
  },
  {
   "cell_type": "code",
   "execution_count": null,
   "metadata": {},
   "outputs": [],
   "source": [
    "Req: I wanted to give them a message that I am looking for the practice files of today"
   ]
  },
  {
   "cell_type": "code",
   "execution_count": 11,
   "metadata": {},
   "outputs": [
    {
     "name": "stdout",
     "output_type": "stream",
     "text": [
      "Keepup the good work, Ravi.\n",
      "Do send me the practice files of today, Ravi.\n",
      "\n",
      "Keepup the good work, Pallabi.\n",
      "Do send me the practice files of today, Pallabi.\n",
      "\n",
      "Keepup the good work, Anirban.\n",
      "Do send me the practice files of today, Anirban.\n",
      "\n",
      "Keepup the good work, Ishwariya.\n",
      "Do send me the practice files of today, Ishwariya.\n",
      "\n",
      "Keepup the good work, Kumar.\n",
      "Do send me the practice files of today, Kumar.\n",
      "\n",
      "Keepup the good work, Vrinda.\n",
      "Do send me the practice files of today, Vrinda.\n",
      "\n",
      "Keepup the good work, Harshika.\n",
      "Do send me the practice files of today, Harshika.\n",
      "\n"
     ]
    }
   ],
   "source": [
    "for x in students:\n",
    "    print(f\"Keepup the good work, {x.title()}.\")\n",
    "    print(f\"Do send me the practice files of today, {x.title()}.\\n\")\n"
   ]
  },
  {
   "cell_type": "code",
   "execution_count": null,
   "metadata": {},
   "outputs": [],
   "source": []
  },
  {
   "cell_type": "code",
   "execution_count": null,
   "metadata": {},
   "outputs": [],
   "source": []
  },
  {
   "cell_type": "code",
   "execution_count": null,
   "metadata": {},
   "outputs": [],
   "source": []
  },
  {
   "cell_type": "code",
   "execution_count": null,
   "metadata": {},
   "outputs": [],
   "source": []
  },
  {
   "cell_type": "code",
   "execution_count": null,
   "metadata": {},
   "outputs": [],
   "source": []
  },
  {
   "cell_type": "code",
   "execution_count": null,
   "metadata": {},
   "outputs": [],
   "source": []
  }
 ],
 "metadata": {
  "kernelspec": {
   "display_name": "Python 3",
   "language": "python",
   "name": "python3"
  },
  "language_info": {
   "codemirror_mode": {
    "name": "ipython",
    "version": 3
   },
   "file_extension": ".py",
   "mimetype": "text/x-python",
   "name": "python",
   "nbconvert_exporter": "python",
   "pygments_lexer": "ipython3",
   "version": "3.8.3"
  }
 },
 "nbformat": 4,
 "nbformat_minor": 4
}
